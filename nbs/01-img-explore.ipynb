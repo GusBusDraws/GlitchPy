{
 "cells": [
  {
   "cell_type": "code",
   "execution_count": null,
   "id": "0dc5a57d",
   "metadata": {},
   "outputs": [],
   "source": [
    "# Standard library imports\n",
    "import os\n",
    "\n",
    "# Third party imports\n",
    "import napari\n",
    "import numpy as np\n",
    "from skimage import color, io, util"
   ]
  },
  {
   "cell_type": "code",
   "execution_count": null,
   "id": "9ce10275",
   "metadata": {},
   "outputs": [],
   "source": [
    "# This needs to be changed to the filename of one of your images\n",
    "img_fn = 'b-v-falls.png'\n",
    "img_path = os.path.join('..', 'imgs', img_fn)\n",
    "os.path.exists(img_path)"
   ]
  },
  {
   "cell_type": "code",
   "execution_count": null,
   "id": "1d476ecc",
   "metadata": {},
   "outputs": [],
   "source": [
    "viewer = napari.Viewer()"
   ]
  },
  {
   "cell_type": "code",
   "execution_count": null,
   "id": "0484f7db",
   "metadata": {},
   "outputs": [],
   "source": [
    "img_rgb = io.imread(img_path)\n",
    "img_rgb = util.img_as_float(img_rgb)"
   ]
  },
  {
   "cell_type": "code",
   "execution_count": null,
   "id": "77fcf7a2",
   "metadata": {},
   "outputs": [],
   "source": [
    "viewer.add_image(img_rgb, name='RGB')"
   ]
  },
  {
   "cell_type": "code",
   "execution_count": null,
   "id": "c2c7e2d5",
   "metadata": {},
   "outputs": [],
   "source": [
    "img_hsv = color.rgb2hsv(img_rgb)\n",
    "viewer.add_image(img_hsv, name='HSV')"
   ]
  },
  {
   "cell_type": "code",
   "execution_count": null,
   "id": "1a083981",
   "metadata": {},
   "outputs": [],
   "source": [
    "img.shape"
   ]
  },
  {
   "cell_type": "code",
   "execution_count": null,
   "id": "bf4d665d",
   "metadata": {},
   "outputs": [],
   "source": [
    "img_hsv = color.rgb2hsv(img_rgb)"
   ]
  },
  {
   "cell_type": "code",
   "execution_count": null,
   "id": "b3170898",
   "metadata": {},
   "outputs": [],
   "source": [
    "img_h_only = img_hsv\n",
    "# Set saturation channel to max\n",
    "img_h_only[:, :, 1] = 1\n",
    "# Set value channel to max (light)\n",
    "img_h_only[:, :, 2] = 1\n",
    "img_h_only_rgb = color.hsv2rgb(img_h_only)\n",
    "viewer.add_image(img_h_only_rgb)"
   ]
  },
  {
   "cell_type": "code",
   "execution_count": null,
   "id": "05318a26",
   "metadata": {},
   "outputs": [],
   "source": [
    "mask = np.zeros((img.shape[0], img.shape[1]))\n",
    "mask[img_hsv[:, :, 0] > 0.25] = 0.33\n",
    "mask[img_hsv[:, :, 0] > 0.5] = 0.67\n",
    "mask[img_hsv[:, :, 0] > 0.75] = 1\n",
    "viewer.add_image(mask, name='s: 0, 0.25, 0.5, 0.75')"
   ]
  },
  {
   "cell_type": "code",
   "execution_count": null,
   "id": "e0041dd2",
   "metadata": {},
   "outputs": [],
   "source": []
  }
 ],
 "metadata": {
  "kernelspec": {
   "display_name": "Python 3",
   "language": "python",
   "name": "python3"
  },
  "language_info": {
   "codemirror_mode": {
    "name": "ipython",
    "version": 3
   },
   "file_extension": ".py",
   "mimetype": "text/x-python",
   "name": "python",
   "nbconvert_exporter": "python",
   "pygments_lexer": "ipython3",
   "version": "3.9.5"
  }
 },
 "nbformat": 4,
 "nbformat_minor": 5
}
