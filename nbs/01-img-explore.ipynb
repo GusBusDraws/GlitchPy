{
 "cells": [
  {
   "cell_type": "markdown",
   "id": "b6390cdf",
   "metadata": {},
   "source": [
    "# 01-img-explore.ipynb"
   ]
  },
  {
   "cell_type": "markdown",
   "id": "cd1a1302",
   "metadata": {},
   "source": [
    "## Import packages"
   ]
  },
  {
   "cell_type": "code",
   "execution_count": 14,
   "id": "0dc5a57d",
   "metadata": {},
   "outputs": [
    {
     "name": "stdout",
     "output_type": "stream",
     "text": [
      "The autoreload extension is already loaded. To reload it, use:\n",
      "  %reload_ext autoreload\n"
     ]
    }
   ],
   "source": [
    "# Standard library imports\n",
    "from pathlib import Path\n",
    "import sys\n",
    "# Third party imports\n",
    "import imageio as iio\n",
    "import matplotlib.pyplot as plt\n",
    "import napari\n",
    "import numpy as np\n",
    "import skimage\n",
    "# Local imports\n",
    "%load_ext autoreload\n",
    "%autoreload 2\n",
    "module_path = str(Path.cwd().parent)\n",
    "if module_path not in sys.path:\n",
    "    sys.path.append(module_path)\n",
    "import glitchpy"
   ]
  },
  {
   "cell_type": "markdown",
   "id": "5e5c663d",
   "metadata": {},
   "source": [
    "# Load image"
   ]
  },
  {
   "cell_type": "markdown",
   "id": "d9554614",
   "metadata": {},
   "source": [
    "## Open napari window"
   ]
  },
  {
   "cell_type": "code",
   "execution_count": 2,
   "id": "89d5f455",
   "metadata": {},
   "outputs": [],
   "source": [
    "viewer = napari.Viewer()"
   ]
  },
  {
   "cell_type": "markdown",
   "id": "b8351413",
   "metadata": {},
   "source": [
    "## Set image file"
   ]
  },
  {
   "cell_type": "code",
   "execution_count": 6,
   "id": "9ce10275",
   "metadata": {},
   "outputs": [
    {
     "name": "stdout",
     "output_type": "stream",
     "text": [
      "img.shape=(920, 1227, 3)\n",
      "img.dtype=dtype('uint8')\n"
     ]
    }
   ],
   "source": [
    "img_path = Path.cwd().parent / 'imgs' / 'flowers.png'\n",
    "if not img_path.exists():\n",
    "    print(f'Image not found: {img_path}')\n",
    "else:\n",
    "    img = iio.imread(img_path)\n",
    "    print(f'{img.shape=}')\n",
    "    print(f'{img.dtype=}')\n",
    "    viewer.add_image(img)"
   ]
  },
  {
   "cell_type": "code",
   "execution_count": 11,
   "id": "c2c7e2d5",
   "metadata": {},
   "outputs": [
    {
     "data": {
      "text/plain": [
       "<Image layer 'img_hsv' at 0x2110b5b5820>"
      ]
     },
     "execution_count": 11,
     "metadata": {},
     "output_type": "execute_result"
    }
   ],
   "source": [
    "img_hsv = skimage.color.rgb2hsv(img)\n",
    "viewer.add_image(img_hsv)"
   ]
  },
  {
   "cell_type": "code",
   "execution_count": 13,
   "id": "b3170898",
   "metadata": {},
   "outputs": [
    {
     "data": {
      "text/plain": [
       "<Image layer 'img_h_rgb' at 0x21106c07430>"
      ]
     },
     "execution_count": 13,
     "metadata": {},
     "output_type": "execute_result"
    }
   ],
   "source": [
    "img_h = img_hsv.copy()\n",
    "# Set saturation channel to max\n",
    "img_h[:, :, 1] = 1\n",
    "# Set value channel to max (light)\n",
    "img_h[:, :, 2] = 1\n",
    "img_h_rgb = skimage.color.hsv2rgb(img_h)\n",
    "viewer.add_image(img_h_rgb)"
   ]
  },
  {
   "cell_type": "markdown",
   "id": "9c677d17",
   "metadata": {},
   "source": [
    "## Plot HSV histogram"
   ]
  },
  {
   "cell_type": "code",
   "execution_count": null,
   "id": "e0041dd2",
   "metadata": {},
   "outputs": [],
   "source": []
  }
 ],
 "metadata": {
  "kernelspec": {
   "display_name": "Python 3",
   "language": "python",
   "name": "python3"
  },
  "language_info": {
   "codemirror_mode": {
    "name": "ipython",
    "version": 3
   },
   "file_extension": ".py",
   "mimetype": "text/x-python",
   "name": "python",
   "nbconvert_exporter": "python",
   "pygments_lexer": "ipython3",
   "version": "3.9.5"
  }
 },
 "nbformat": 4,
 "nbformat_minor": 5
}
